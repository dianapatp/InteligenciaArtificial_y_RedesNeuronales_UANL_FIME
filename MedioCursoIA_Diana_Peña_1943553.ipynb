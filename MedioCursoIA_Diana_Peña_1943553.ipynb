{
  "nbformat": 4,
  "nbformat_minor": 0,
  "metadata": {
    "colab": {
      "name": "MedioCursoIA_Diana Peña_1943553.ipynb",
      "provenance": [],
      "authorship_tag": "ABX9TyMGKpgDHVgseQ5bmqmPnrUZ",
      "include_colab_link": true
    },
    "kernelspec": {
      "name": "python3",
      "display_name": "Python 3"
    },
    "language_info": {
      "name": "python"
    }
  },
  "cells": [
    {
      "cell_type": "markdown",
      "metadata": {
        "id": "view-in-github",
        "colab_type": "text"
      },
      "source": [
        "<a href=\"https://colab.research.google.com/github/dianapatp/InteligenciaArtificial_y_RedesNeuronales_UANL_FIME/blob/Examen-Medio-Curso-IA/MedioCursoIA_Diana_Pe%C3%B1a_1943553.ipynb\" target=\"_parent\"><img src=\"https://colab.research.google.com/assets/colab-badge.svg\" alt=\"Open In Colab\"/></a>"
      ]
    },
    {
      "cell_type": "code",
      "metadata": {
        "colab": {
          "base_uri": "https://localhost:8080/"
        },
        "id": "cURRsYBT1egQ",
        "outputId": "e577ce38-367f-4255-86f5-b04ffaa8da2e"
      },
      "source": [
        "'''\n",
        "Problema 1\n",
        "Desarrollar un programa que,\n",
        "- Remueva los números pares de la lista:\n",
        "   ex_lista = [10, 15, 17, 21, 22, 34, 37, 40, 45, 52, 66, 68, 81, 84, 91, 94, 102, 105, 109]\n",
        "- Imprima la lista después de remover los números pares. \n",
        "'''\n",
        "list = [10, 15, 17, 21, 22, 34, 37, 40, 45, 52, 66, 68, 81, 84, 91, 94, 102, 105, 109]\n",
        "for i in list:\n",
        "\tif i%2!=0:\n",
        "\t\tprint(i)"
      ],
      "execution_count": 6,
      "outputs": [
        {
          "output_type": "stream",
          "name": "stdout",
          "text": [
            "15\n",
            "17\n",
            "21\n",
            "37\n",
            "45\n",
            "81\n",
            "91\n",
            "105\n",
            "109\n"
          ]
        }
      ]
    },
    {
      "cell_type": "code",
      "metadata": {
        "colab": {
          "base_uri": "https://localhost:8080/"
        },
        "id": "pFUGQ4KHDvq4",
        "outputId": "83c4ac92-14bd-4b7c-fae0-758dd0d23bb9"
      },
      "source": [
        "'''\n",
        "Problema 2\n",
        "- Pregunte al usuario por sus 5 películas favoritas (dato tipo string), empezando por la mas favorita y terminando en la posición 5 con la menos favorita. \n",
        "- Almacene estos datos en una lista. \n",
        "- Por último, iterar sobre la lista generada para imprimir 5 oraciones (1 con cada título de película) que digan: \"La película [TÍTULO DE PELÍCULA] \n",
        "  está en la posición [índice+1] de mi top 5\". \n",
        "      . TÍTULO DE PELÍCULA: corresponde a los nombres almacenados previamente en su lista. \n",
        "      . Recordatorio: Índice es la posición de un elemento dentro de una lista. \n",
        "'''\n",
        "print (\"¡Hola! ¿Cuáles son tus 5 películas favoritas? Por favor menciónalas en orden, siendo la 1 la más favorita y la 5 la menos favorita.\")\n",
        "a = input(\"Película 1: \")\n",
        "e = input(\"Película 2: \")\n",
        "i = input(\"Película 3: \")\n",
        "o = input(\"Película 4: \")\n",
        "u = input(\"Película 5: \")\n",
        "\n",
        "list = [a, e, i, o, u]\n",
        "\n",
        "print (\"La película \" + (list[0]) + \" está en la posición 1 de mi top 5.\")\n",
        "print (\"La película \" + (list[1]) + \" está en la posición 2 de mi top 5.\")\n",
        "print (\"La película \" + (list[2]) + \" está en la posición 3 de mi top 5.\")\n",
        "print (\"La película \" + (list[3]) + \" está en la posición 4 de mi top 5.\")\n",
        "print (\"La película \" + (list[4]) + \" está en la posición 5 de mi top 5.\")"
      ],
      "execution_count": 15,
      "outputs": [
        {
          "output_type": "stream",
          "name": "stdout",
          "text": [
            "¡Hola! ¿Cuáles son tus 5 películas favoritas? Por favor menciónalas en orden, siendo la 1 la más favorita y la 5 la menos favorita.\n",
            "Película 1: Atrápame si puedes\n",
            "Película 2: Baby Driver\n",
            "Película 3: Perros de Reserva\n",
            "Película 4: Los Increíbles\n",
            "Película 5: Hateful 8\n",
            "La película Atrápame si puedes está en la posición 1 de mi top 5.\n",
            "La película Baby Driver está en la posición 2 de mi top 5.\n",
            "La película Perros de Reserva está en la posición 3 de mi top 5.\n",
            "La película Los Increíbles está en la posición 4 de mi top 5.\n",
            "La película Hateful 8 está en la posición 5 de mi top 5.\n"
          ]
        }
      ]
    }
  ]
}