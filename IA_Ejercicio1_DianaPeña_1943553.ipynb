{
  "nbformat": 4,
  "nbformat_minor": 0,
  "metadata": {
    "colab": {
      "name": "IA_Ejercicio1_DianaPeña_1943553",
      "provenance": [],
      "collapsed_sections": [],
      "authorship_tag": "ABX9TyP222XrBmqlVIzBMO2Ga3BZ",
      "include_colab_link": true
    },
    "kernelspec": {
      "name": "python3",
      "display_name": "Python 3"
    },
    "language_info": {
      "name": "python"
    }
  },
  "cells": [
    {
      "cell_type": "markdown",
      "metadata": {
        "id": "view-in-github",
        "colab_type": "text"
      },
      "source": [
        "<a href=\"https://colab.research.google.com/github/dianapatp/InteligenciaArtificial_y_RedesNeuronales_UANL_FIME/blob/main/IA_Ejercicio1_DianaPe%C3%B1a_1943553.ipynb\" target=\"_parent\"><img src=\"https://colab.research.google.com/assets/colab-badge.svg\" alt=\"Open In Colab\"/></a>"
      ]
    },
    {
      "cell_type": "markdown",
      "metadata": {
        "id": "XwX5uRF-hS-C"
      },
      "source": [
        "#**Actividad 2.- Ejercicios de Introducción Python**\n",
        "\n",
        "**Facultad de Ingeniería Mecánica y Eléctrica**\n",
        "\n",
        "**Universidad Autónoma de Nuevo León**\n",
        "\n",
        "*Diana Patricia Peña Pérez*\n",
        "\n",
        "*1943553*\n",
        "\n",
        "*Jueves N4*"
      ]
    },
    {
      "cell_type": "code",
      "metadata": {
        "id": "d1QHCqLyfHjc"
      },
      "source": [
        "'''\n",
        "Ejericio 1 - Crear un programa que pregunte al usuario por su nombre, edad, una frase favorita y autor de la frase favorita. El programa deberá de imprimir un mensaje\n",
        "compuesto por el nombre y edad del usuario diciendo que su frase favorita es la que dió anteriormente y el autor de dicha frase es el nombre previamente dado.\n",
        "'''\n",
        "nom = input(\"¡Hola! ¿Cuál es tu nombre? \") \n",
        "age = input (\"Mucho gusto \" + nom + \". ¿Cuál es tu edad? \")\n",
        "frase = input (\"Cuéntame, ¿cuál es tu frase favorita? \")\n",
        "autor = input (\"¡Wow!¿Quién escribió esa frase? \")\n",
        "print (\"Muy bien, \"+ nom + \" de \" + age + \". Gracias por contarme que tu frase favorita es \" + frase + \" escrita por \" + autor + \".\")"
      ],
      "execution_count": null,
      "outputs": []
    },
    {
      "cell_type": "code",
      "metadata": {
        "id": "EUnsQjnTfvnx"
      },
      "source": [
        "'''\n",
        "Ejercicio 2 - Crear un programa que le pida al usuario capturar dos números enteros y dos números flotantes. Después, realizará la suma, resta, multiplicación y división, \n",
        "de ambos pares de números. Como resultado se deberán de obtener 8 valores. Imprimir todos estos reultados.\n",
        "'''\n",
        "nom = input(\"¡Hola! ¿Cuál es su nombre? \") \n",
        "print (\"Mucho gusto \" + nom + \".\")\n",
        "int1 = input (\"Favor de ingresar un número entero. \") \n",
        "int2 = input (\"Favor de ingresar otro número entero. \")\n",
        "float1 = input (\"Favor de ingresar un número flotante (un número con valores decimales). \")\n",
        "float2 = input (\"Favor de ingresar otro número flotante. \")\n",
        " \n",
        "a = int(int1)\n",
        "b = int(int2)\n",
        "c = float(float1)\n",
        "d = float(float2)\n",
        " \n",
        "print (\"Los resultados de las operaciones aritméticas de los números enteros son: \")\n",
        "print(f\"Suma: {a} + {b} = {a + b} \")\n",
        "print(f\"Resta: {a} - {b} = {a - b} \")\n",
        "print(f\"Multiplicación: {a} - {b} = {a * b} \")\n",
        "print(f\"División: {a} - {b} = {a / b} \")\n",
        " \n",
        " \n",
        "print (\"Los resultados de las operaciones aritméticas de los números flotantes son: \")\n",
        "print(f\"Suma: {c} + {d} = {c + d} \")\n",
        "print(f\"Resta: {c} - {d} = {c - d} \")\n",
        "print(f\"Multiplicación: {c} - {d} = {c * d} \")\n",
        "print(f\"División: {c} - {d} = {c / d} \")"
      ],
      "execution_count": null,
      "outputs": []
    },
    {
      "cell_type": "code",
      "metadata": {
        "id": "kV2RjooJhAgM"
      },
      "source": [
        "\n",
        "'''\n",
        "Ejercicio 3 - Crear un programa que evalúe dos expresiones lógicas con `and`, dos con `or` y dos con `not`. Cada expresión deberá hacer uso de operadores de comparación. \n",
        "'''\n",
        "\n",
        "print (\"¡Vamos a escribir una historia! Ayúdame a asignar características a los personajes.\")\n",
        "print (\"Cada característica tiene un código asignado. Para cada personaje, escribe el código correspondiente en la lista de sus características. \")\n",
        "print (\"\\nCódigo para el color favorito de cada personaje:\\nNegro = 1  Blanco = 2  Azul = 3  Rojo = 4  Amarillo = 5  Verde = 6  Morado = 7  Naranja =  8 \")\n",
        "print (\"\\nCódigo para el animal favorito de cada personaje:\\nPerro = 1  Gato = 2  Pez = 3  Caballo = 4  Iguana = 5  Tigre = 6  Lobo = 7  Mapache =  8 \")\n",
        "print (\"\\nLa historia trata sobre personas en la milicia. Código para el rango de cada personaje:\\nSoldado = 1  Sargento = 2  Subteniente = 3  Teniente = 4  Capitán = 5  Mayor = 6  Coronel = 7  General =  8 \")\n",
        "print (\"\\nPersonaje 1: \")\n",
        "nom1 = input (\"Ingrese el nombre que le daremos: \")\n",
        "age1 = input (\"Ingrese la edad que tendrá: \")\n",
        "col1 = input (\"Ingrese el código de su color favorito: \")\n",
        "ani1 = input (\"Ingrese el código de su animal favorito: \")\n",
        "prof1 = input (\"Ingrese el código de su rango: \")\n",
        "\n",
        "print (\"\\nPersonaje 2: \")\n",
        "nom2 = input (\"Ingrese el nombre que le daremos: \")\n",
        "age2 = input (\"Ingrese la edad que tendrá: \")\n",
        "col2 = input (\"Ingrese el código de su color favorito: \")\n",
        "ani2 = input (\"Ingrese el código de su animal favorito: \")\n",
        "prof2 = input (\"Ingrese el código de su rango: \")\n",
        "\n",
        "print (\"\\nPersonaje 3: \")\n",
        "nom3 = input (\"Ingrese el nombre que le daremos: \")\n",
        "age3 = input (\"Ingrese la edad que tendrá: \")\n",
        "col3 = input (\"Ingrese el código de su color favorito: \")\n",
        "ani3 = input (\"Ingrese el código de su animal favorito: \")\n",
        "prof3 = input (\"Ingrese el código de su rango: \")\n",
        "\n",
        "print(f\"\\nLos 3 personajes tienen el mismo color favorito: {col1 == col2 and col2 == col3} \")\n",
        "print(f\"Los 3 personajes tienen el mismo animal favorito: {ani1 == ani2 and ani2 == ani3} \")\n",
        "print()\n",
        "\n",
        "print(\"El personaje 2, \" + nom2 + f\", es el mayor: {age2 > age1 or age2 > age3} \")\n",
        "print(\"El personaje 3, \" + nom3 + f\", es el menor: {age3 < age1 or age3 < age2} \")\n",
        "print()\n",
        "\n",
        "print(f\"Sus rangos no se repiten entre ellos: {not prof1 == prof2 and not prof2 == prof3 and not prof1 == prof3} \")\n",
        "print(f\"Sus rangos están ordenados de mayor a menor: {not prof1 > prof2 and not prof2 > prof3} \")\n",
        "print()"
      ],
      "execution_count": null,
      "outputs": []
    }
  ]
}