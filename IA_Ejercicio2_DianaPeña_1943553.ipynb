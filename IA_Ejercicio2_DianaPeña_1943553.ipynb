{
  "nbformat": 4,
  "nbformat_minor": 0,
  "metadata": {
    "colab": {
      "name": "IA_Ejercicio2_DianaPeña_1943553",
      "provenance": [],
      "authorship_tag": "ABX9TyN47XclNKbJVsHX5Vnrj6aO",
      "include_colab_link": true
    },
    "kernelspec": {
      "name": "python3",
      "display_name": "Python 3"
    },
    "language_info": {
      "name": "python"
    }
  },
  "cells": [
    {
      "cell_type": "markdown",
      "metadata": {
        "id": "view-in-github",
        "colab_type": "text"
      },
      "source": [
        "<a href=\"https://colab.research.google.com/github/dianapatp/InteligenciaArtificial_y_RedesNeuronales_UANL_FIME/blob/LasActividadesVanAqu%C3%AD/IA_Ejercicio2_DianaPe%C3%B1a_1943553.ipynb\" target=\"_parent\"><img src=\"https://colab.research.google.com/assets/colab-badge.svg\" alt=\"Open In Colab\"/></a>"
      ]
    },
    {
      "cell_type": "markdown",
      "metadata": {
        "id": "KvCvgVwIcnVq"
      },
      "source": [
        "# **Actividad 3.- Ejercicios de Introducción Python**\n",
        "\n",
        "**Universidad Autónoma de Nuevo León**\n",
        "\n",
        "**Facultad de Ingeniería Mecánica y Eléctrica**\n",
        "\n",
        "*Diana Patricia Peña Pérez*\n",
        "\n",
        "*1943553*\n",
        "\n",
        "*Jueves N4*"
      ]
    },
    {
      "cell_type": "code",
      "metadata": {
        "id": "ZLiYrbajccUE",
        "colab": {
          "base_uri": "https://localhost:8080/"
        },
        "outputId": "70dd1f0a-4cf8-41c0-d2bc-7e25f89dff6c"
      },
      "source": [
        "'''\n",
        "Ejercicio 1.1 - Piensa en 7 comidas diferente que te gusten. Implementa un programa que pregunte por las 7 comidas, las almacene en una lista y que \n",
        "posteriermente imprima cada una de ellas utilizando uno de los ciclos comentados en clase. \n",
        "'''\n",
        "food = input (\"¡Hola! ¿Cuáles son tus 7 comidas favoritas? Escríbelas a continuación.\")\n",
        "separador = ', ' or ' '\n",
        "list = food.split(separador)\n",
        "for food in list:\n",
        "  print(food)"
      ],
      "execution_count": 35,
      "outputs": [
        {
          "output_type": "stream",
          "name": "stdout",
          "text": [
            "¡Hola! ¿Cuáles son tus 7 comidas favoritas? Escríbelas a continuación.Fideos, Nieve, Ensalada, Tacos, Huevos Rancheros, Fajitas, Pozole\n",
            "Fideos\n",
            "Nieve\n",
            "Ensalada\n",
            "Tacos\n",
            "Huevos Rancheros\n",
            "Fajitas\n",
            "Pozole\n"
          ]
        }
      ]
    },
    {
      "cell_type": "code",
      "metadata": {
        "id": "MXdPNEG6d7O-",
        "colab": {
          "base_uri": "https://localhost:8080/"
        },
        "outputId": "51d54cb8-639c-4a3b-a271-821fbb22bd35"
      },
      "source": [
        "'''\n",
        "Ejercicio 1.2 - Modifica el ejercicio 1.1 para que imprima cada una de las comidas favoritas junto con una oración inicial: \"Una de mis comidas \n",
        "favoritas es [comida1]\".  \n",
        "'''\n",
        "food = input (\"¡Hola! ¿Cuáles son tus 7 comidas favoritas? Escríbelas a continuación.\")\n",
        "separador = ', ' or ' '\n",
        "list = food.split(separador)\n",
        "for food in list:\n",
        "  print('Me encanta comer ' + food + '.')"
      ],
      "execution_count": 33,
      "outputs": [
        {
          "output_type": "stream",
          "name": "stdout",
          "text": [
            "¡Hola! ¿Cuáles son tus 7 comidas favoritas? Escríbelas a continuación.Fideos, Nieve, Ensalada, Tacos, Huevos Rancheros, Fajitas, Pozole\n",
            "Me encanta comer Fideos.\n",
            "Me encanta comer Nieve.\n",
            "Me encanta comer Ensalada.\n",
            "Me encanta comer Tacos.\n",
            "Me encanta comer Huevos Rancheros.\n",
            "Me encanta comer Fajitas.\n",
            "Me encanta comer Pozole.\n"
          ]
        }
      ]
    },
    {
      "cell_type": "code",
      "metadata": {
        "id": "ApOzkX_5eDhg",
        "colab": {
          "base_uri": "https://localhost:8080/"
        },
        "outputId": "4db6ae03-a234-40c4-bf30-2be605dfb359"
      },
      "source": [
        "'''\n",
        "Ejercicio 2 - Crear un juego de piedra, papel o tijera de dos jugadores. El programa preguntará por la opción del jugador 1 y la opción del jugador 2 y \n",
        "dará como resultado quien ganó el juego. \n",
        "'''\n",
        "usuario1 = input('¡Hola Usuario 1! Por favor escribe la opción que elijas entre piedra, papel o tijeras: ')\n",
        "usuario2 = input('¡Hola Usuario 2! Por favor escribe la opción que elijas entre piedra, papel o tijeras: ')\n",
        "\n",
        "if usuario1 == usuario2:\n",
        "  print('El resultado es un empate.')\n",
        "elif usuario1 == 'Piedra' and usuario2 == 'Tijeras':\n",
        "  print('Felicidades, Usuario 1, ¡tú eres el ganador!')\n",
        "elif usuario1 == 'Papel' and usuario2 == 'Piedra':\n",
        "  print('Felicidades, Usuario 1, ¡tú eres el ganador!')\n",
        "elif usuario1 == 'Tijeras' and usuario2 == 'Papel':\n",
        "  print('Felicidades, Usuario 1, ¡tú eres el ganador!')\n",
        "elif usuario2 == 'Piedra' and usuario1 == 'Tijeras':\n",
        "  print('Felicidades, Usuario 2, ¡tú eres el ganador!')\n",
        "elif usuario2 == 'Papel' and usuario1 == 'Piedra':\n",
        "  print('Felicidades, Usuario 2, ¡tú eres el ganador!')\n",
        "elif usuario2 == 'Tijeras' and usuario1 == 'Piedra':\n",
        "  print('Felicidades, Usuario 2, ¡tú eres el ganador!')\n",
        "else:\n",
        "  print('Favor de escribir una de las opciones previamente mencionadas.')"
      ],
      "execution_count": 26,
      "outputs": [
        {
          "output_type": "stream",
          "name": "stdout",
          "text": [
            "¡Hola Usuario 1! Por favor escribe la opción que elijas entre piedra, papel o tijeras: Piedra\n",
            "¡Hola Usuario 2! Por favor escribe la opción que elijas entre piedra, papel o tijeras: Tijeras\n",
            "Felicidades, Usuario 1, ¡tú eres el ganador!\n"
          ]
        }
      ]
    },
    {
      "cell_type": "code",
      "metadata": {
        "id": "8KyvqQB-eMGI",
        "colab": {
          "base_uri": "https://localhost:8080/"
        },
        "outputId": "de267d56-5d9e-4497-ffb0-33dfad0f9ee9"
      },
      "source": [
        "'''\n",
        "Ejercicio 3 - Implementar un programa que imprima el siguiente patrón:\n",
        "\n",
        "123456\n",
        "12345\n",
        "1234\n",
        "123\n",
        "12\n",
        "1\n",
        "12\n",
        "123\n",
        "1234\n",
        "12345\n",
        "123456\n",
        "'''\n",
        "for i in range(7, 1, -1):\n",
        "    for j in range(1, i):\n",
        "        print(j, end=\"\")\n",
        "    print()\n",
        "for i in range(3, 8):\n",
        "    for j in range(1, i):\n",
        "        print(j, end=\"\")\n",
        "    print()"
      ],
      "execution_count": 39,
      "outputs": [
        {
          "output_type": "stream",
          "name": "stdout",
          "text": [
            "123456\n",
            "12345\n",
            "1234\n",
            "123\n",
            "12\n",
            "1\n",
            "12\n",
            "123\n",
            "1234\n",
            "12345\n",
            "123456\n"
          ]
        }
      ]
    }
  ]
}